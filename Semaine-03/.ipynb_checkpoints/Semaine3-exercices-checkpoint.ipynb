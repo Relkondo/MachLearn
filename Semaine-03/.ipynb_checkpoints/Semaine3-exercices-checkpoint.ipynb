{
 "cells": [
  {
   "cell_type": "markdown",
   "metadata": {
    "colab_type": "text",
    "id": "ULwBwfH9-dNH"
   },
   "source": [
    "# Régression linéaire à plusieurs variables - Exercices tirés du MOOC d'Andrew Ng"
   ]
  },
  {
   "cell_type": "markdown",
   "metadata": {
    "colab_type": "text",
    "id": "5Gnvh5p--dNT"
   },
   "source": [
    "## Chargement des données"
   ]
  },
  {
   "cell_type": "markdown",
   "metadata": {
    "colab_type": "text",
    "id": "Nehocufk-dNa"
   },
   "source": [
    "Le jeu de données donne la valeur de plusieurs maisons, ainsi que leur taille (pieds carrés) et le nombre de chambres à coucher"
   ]
  },
  {
   "cell_type": "markdown",
   "metadata": {
    "colab_type": "text",
    "id": "yusgFG3V-dNp"
   },
   "source": [
    "### Chargez les données du fichier ex1data1.csv"
   ]
  },
  {
   "cell_type": "code",
   "execution_count": 1,
   "metadata": {
    "colab": {},
    "colab_type": "code",
    "id": "RVIWwAO9-dNy"
   },
   "outputs": [],
   "source": [
    "import numpy as np\n",
    "import pandas as pd"
   ]
  },
  {
   "cell_type": "code",
   "execution_count": 2,
   "metadata": {
    "colab": {},
    "colab_type": "code",
    "id": "40WxZntB-dOn"
   },
   "outputs": [],
   "source": [
    "data = pd.read_csv(\"data.csv\")"
   ]
  },
  {
   "cell_type": "markdown",
   "metadata": {
    "colab_type": "text",
    "id": "qXflvRX4-dO-"
   },
   "source": [
    "### Visualisez les données (valeurs réelles)"
   ]
  },
  {
   "cell_type": "markdown",
   "metadata": {
    "colab_type": "text",
    "id": "dP-fVrLz-dPD"
   },
   "source": [
    "Maintenant, nous avons deux 'features'. Voyez si elles ont le même ordre de grandeur"
   ]
  },
  {
   "cell_type": "code",
   "execution_count": 3,
   "metadata": {
    "colab": {},
    "colab_type": "code",
    "id": "oUq9WWRh-dPG",
    "outputId": "8703099c-b463-4536-8d42-8197a0a14b1f"
   },
   "outputs": [
    {
     "name": "stdout",
     "output_type": "stream",
     "text": [
      "    size  nb_bedrooms   price\n",
      "0   2104            3  399900\n",
      "1   1600            3  329900\n",
      "2   2400            3  369000\n",
      "3   1416            2  232000\n",
      "4   3000            4  539900\n",
      "5   1985            4  299900\n",
      "6   1534            3  314900\n",
      "7   1427            3  198999\n",
      "8   1380            3  212000\n",
      "9   1494            3  242500\n",
      "10  1940            4  239999\n",
      "11  2000            3  347000\n",
      "12  1890            3  329999\n",
      "13  4478            5  699900\n",
      "14  1268            3  259900\n",
      "15  2300            4  449900\n",
      "16  1320            2  299900\n",
      "17  1236            3  199900\n",
      "18  2609            4  499998\n",
      "19  3031            4  599000\n",
      "20  1767            3  252900\n",
      "21  1888            2  255000\n",
      "22  1604            3  242900\n",
      "23  1962            4  259900\n",
      "24  3890            3  573900\n",
      "25  1100            3  249900\n",
      "26  1458            3  464500\n",
      "27  2526            3  469000\n",
      "28  2200            3  475000\n",
      "29  2637            3  299900\n",
      "30  1839            2  349900\n",
      "31  1000            1  169900\n",
      "32  2040            4  314900\n",
      "33  3137            3  579900\n",
      "34  1811            4  285900\n",
      "35  1437            3  249900\n",
      "36  1239            3  229900\n",
      "37  2132            4  345000\n",
      "38  4215            4  549000\n",
      "39  2162            4  287000\n",
      "40  1664            2  368500\n",
      "41  2238            3  329900\n",
      "42  2567            4  314000\n",
      "43  1200            3  299000\n",
      "44   852            2  179900\n",
      "45  1852            4  299900\n",
      "46  1203            3  239500\n"
     ]
    }
   ],
   "source": [
    "data\n",
    "print (data)"
   ]
  },
  {
   "cell_type": "markdown",
   "metadata": {
    "colab_type": "text",
    "id": "ZPqY0zPr-dPn"
   },
   "source": [
    "## Définissez quelques variables utiles"
   ]
  },
  {
   "cell_type": "markdown",
   "metadata": {
    "colab_type": "text",
    "id": "oE8AcnWD-dP0"
   },
   "source": [
    "### Définissez X et y"
   ]
  },
  {
   "cell_type": "markdown",
   "metadata": {
    "colab_type": "text",
    "id": "-eyW5vQ3-dP4"
   },
   "source": [
    "X est maintenant une matrice de dimensions m x 2"
   ]
  },
  {
   "cell_type": "code",
   "execution_count": 4,
   "metadata": {
    "colab": {},
    "colab_type": "code",
    "id": "ELWluGEU-dP9"
   },
   "outputs": [
    {
     "name": "stdout",
     "output_type": "stream",
     "text": [
      "[[2104    3]\n",
      " [1600    3]\n",
      " [2400    3]\n",
      " [1416    2]\n",
      " [3000    4]\n",
      " [1985    4]\n",
      " [1534    3]\n",
      " [1427    3]\n",
      " [1380    3]\n",
      " [1494    3]\n",
      " [1940    4]\n",
      " [2000    3]\n",
      " [1890    3]\n",
      " [4478    5]\n",
      " [1268    3]\n",
      " [2300    4]\n",
      " [1320    2]\n",
      " [1236    3]\n",
      " [2609    4]\n",
      " [3031    4]\n",
      " [1767    3]\n",
      " [1888    2]\n",
      " [1604    3]\n",
      " [1962    4]\n",
      " [3890    3]\n",
      " [1100    3]\n",
      " [1458    3]\n",
      " [2526    3]\n",
      " [2200    3]\n",
      " [2637    3]\n",
      " [1839    2]\n",
      " [1000    1]\n",
      " [2040    4]\n",
      " [3137    3]\n",
      " [1811    4]\n",
      " [1437    3]\n",
      " [1239    3]\n",
      " [2132    4]\n",
      " [4215    4]\n",
      " [2162    4]\n",
      " [1664    2]\n",
      " [2238    3]\n",
      " [2567    4]\n",
      " [1200    3]\n",
      " [ 852    2]\n",
      " [1852    4]\n",
      " [1203    3]] [[399900 329900 369000 232000 539900 299900 314900 198999 212000 242500\n",
      "  239999 347000 329999 699900 259900 449900 299900 199900 499998 599000\n",
      "  252900 255000 242900 259900 573900 249900 464500 469000 475000 299900\n",
      "  349900 169900 314900 579900 285900 249900 229900 345000 549000 287000\n",
      "  368500 329900 314000 299000 179900 299900 239500]]\n"
     ]
    }
   ],
   "source": [
    "X = np.array(data)\n",
    "y = np.array([data.price])\n",
    "X = X[ :, :2]\n",
    "print (X, y)"
   ]
  },
  {
   "cell_type": "markdown",
   "metadata": {
    "colab_type": "text",
    "id": "A-siAc27-dQm"
   },
   "source": [
    "### Initialisez theta (combien de dimensions?)"
   ]
  },
  {
   "cell_type": "code",
   "execution_count": 5,
   "metadata": {
    "colab": {},
    "colab_type": "code",
    "id": "8r-s4Pcf-dQw"
   },
   "outputs": [],
   "source": [
    "theta = np.zeros(3)"
   ]
  },
  {
   "cell_type": "markdown",
   "metadata": {
    "colab_type": "text",
    "id": "xi5RASKt-dRQ"
   },
   "source": [
    "### Vérifiez les dimensions de theta et de X. Sont-elles compatibles pour implémenter la fonction d'hypothèse sous forme vectorisée?"
   ]
  },
  {
   "cell_type": "code",
   "execution_count": 6,
   "metadata": {
    "colab": {},
    "colab_type": "code",
    "id": "RXzZ2keY-dRZ"
   },
   "outputs": [
    {
     "name": "stdout",
     "output_type": "stream",
     "text": [
      "1 2\n"
     ]
    }
   ],
   "source": [
    "print (theta.ndim, X.ndim)"
   ]
  },
  {
   "cell_type": "code",
   "execution_count": null,
   "metadata": {
    "colab": {},
    "colab_type": "code",
    "id": "5-eyKA7l-dRp"
   },
   "outputs": [],
   "source": []
  },
  {
   "cell_type": "markdown",
   "metadata": {
    "colab_type": "text",
    "id": "suwCMnrm-dR1"
   },
   "source": [
    "### Modifiez X en conséquence"
   ]
  },
  {
   "cell_type": "code",
   "execution_count": 7,
   "metadata": {
    "colab": {},
    "colab_type": "code",
    "id": "ao3dQZTH-dR4"
   },
   "outputs": [
    {
     "name": "stdout",
     "output_type": "stream",
     "text": [
      "[[   0 2104    3]\n",
      " [   0 1600    3]\n",
      " [   0 2400    3]\n",
      " [   0 1416    2]\n",
      " [   0 3000    4]\n",
      " [   0 1985    4]\n",
      " [   0 1534    3]\n",
      " [   0 1427    3]\n",
      " [   0 1380    3]\n",
      " [   0 1494    3]\n",
      " [   0 1940    4]\n",
      " [   0 2000    3]\n",
      " [   0 1890    3]\n",
      " [   0 4478    5]\n",
      " [   0 1268    3]\n",
      " [   0 2300    4]\n",
      " [   0 1320    2]\n",
      " [   0 1236    3]\n",
      " [   0 2609    4]\n",
      " [   0 3031    4]\n",
      " [   0 1767    3]\n",
      " [   0 1888    2]\n",
      " [   0 1604    3]\n",
      " [   0 1962    4]\n",
      " [   0 3890    3]\n",
      " [   0 1100    3]\n",
      " [   0 1458    3]\n",
      " [   0 2526    3]\n",
      " [   0 2200    3]\n",
      " [   0 2637    3]\n",
      " [   0 1839    2]\n",
      " [   0 1000    1]\n",
      " [   0 2040    4]\n",
      " [   0 3137    3]\n",
      " [   0 1811    4]\n",
      " [   0 1437    3]\n",
      " [   0 1239    3]\n",
      " [   0 2132    4]\n",
      " [   0 4215    4]\n",
      " [   0 2162    4]\n",
      " [   0 1664    2]\n",
      " [   0 2238    3]\n",
      " [   0 2567    4]\n",
      " [   0 1200    3]\n",
      " [   0  852    2]\n",
      " [   0 1852    4]\n",
      " [   0 1203    3]]\n"
     ]
    }
   ],
   "source": [
    "X = np.insert(X, 0, 0, axis=1)\n",
    "print(X)"
   ]
  },
  {
   "cell_type": "markdown",
   "metadata": {
    "colab_type": "text",
    "id": "o68FGIcE-dSB"
   },
   "source": [
    "## Écrivez une fonction pour centrer et réduire les features"
   ]
  },
  {
   "cell_type": "code",
   "execution_count": 8,
   "metadata": {
    "colab": {},
    "colab_type": "code",
    "id": "9XRPy8ek-dSE"
   },
   "outputs": [
    {
     "name": "stdout",
     "output_type": "stream",
     "text": [
      "[[   0 2104    3]\n",
      " [   0 1600    3]\n",
      " [   0 2400    3]\n",
      " [   0 1416    2]\n",
      " [   0 3000    4]\n",
      " [   0 1985    4]\n",
      " [   0 1534    3]\n",
      " [   0 1427    3]\n",
      " [   0 1380    3]\n",
      " [   0 1494    3]\n",
      " [   0 1940    4]\n",
      " [   0 2000    3]\n",
      " [   0 1890    3]\n",
      " [   0 4478    5]\n",
      " [   0 1268    3]\n",
      " [   0 2300    4]\n",
      " [   0 1320    2]\n",
      " [   0 1236    3]\n",
      " [   0 2609    4]\n",
      " [   0 3031    4]\n",
      " [   0 1767    3]\n",
      " [   0 1888    2]\n",
      " [   0 1604    3]\n",
      " [   0 1962    4]\n",
      " [   0 3890    3]\n",
      " [   0 1100    3]\n",
      " [   0 1458    3]\n",
      " [   0 2526    3]\n",
      " [   0 2200    3]\n",
      " [   0 2637    3]\n",
      " [   0 1839    2]\n",
      " [   0 1000    1]\n",
      " [   0 2040    4]\n",
      " [   0 3137    3]\n",
      " [   0 1811    4]\n",
      " [   0 1437    3]\n",
      " [   0 1239    3]\n",
      " [   0 2132    4]\n",
      " [   0 4215    4]\n",
      " [   0 2162    4]\n",
      " [   0 1664    2]\n",
      " [   0 2238    3]\n",
      " [   0 2567    4]\n",
      " [   0 1200    3]\n",
      " [   0  852    2]\n",
      " [   0 1852    4]\n",
      " [   0 1203    3]]\n",
      "[[ 0.00000000e+00  1.31415422e-01 -2.26093368e-01]\n",
      " [ 0.00000000e+00 -5.09640698e-01 -2.26093368e-01]\n",
      " [ 0.00000000e+00  5.07908699e-01 -2.26093368e-01]\n",
      " [ 0.00000000e+00 -7.43677059e-01 -1.55439190e+00]\n",
      " [ 0.00000000e+00  1.27107075e+00  1.10220517e+00]\n",
      " [ 0.00000000e+00 -1.99450507e-02  1.10220517e+00]\n",
      " [ 0.00000000e+00 -5.93588523e-01 -2.26093368e-01]\n",
      " [ 0.00000000e+00 -7.29685755e-01 -2.26093368e-01]\n",
      " [ 0.00000000e+00 -7.89466782e-01 -2.26093368e-01]\n",
      " [ 0.00000000e+00 -6.44465993e-01 -2.26093368e-01]\n",
      " [ 0.00000000e+00 -7.71822042e-02  1.10220517e+00]\n",
      " [ 0.00000000e+00 -8.65999486e-04 -2.26093368e-01]\n",
      " [ 0.00000000e+00 -1.40779041e-01 -2.26093368e-01]\n",
      " [ 0.00000000e+00  3.15099326e+00  2.43050370e+00]\n",
      " [ 0.00000000e+00 -9.31923697e-01 -2.26093368e-01]\n",
      " [ 0.00000000e+00  3.80715024e-01  1.10220517e+00]\n",
      " [ 0.00000000e+00 -8.65782986e-01 -1.55439190e+00]\n",
      " [ 0.00000000e+00 -9.72625673e-01 -2.26093368e-01]\n",
      " [ 0.00000000e+00  7.73743478e-01  1.10220517e+00]\n",
      " [ 0.00000000e+00  1.31050078e+00  1.10220517e+00]\n",
      " [ 0.00000000e+00 -2.97227261e-01 -2.26093368e-01]\n",
      " [ 0.00000000e+00 -1.43322915e-01 -1.55439190e+00]\n",
      " [ 0.00000000e+00 -5.04552951e-01 -2.26093368e-01]\n",
      " [ 0.00000000e+00 -4.91995958e-02  1.10220517e+00]\n",
      " [ 0.00000000e+00  2.40309445e+00 -2.26093368e-01]\n",
      " [ 0.00000000e+00 -1.14560907e+00 -2.26093368e-01]\n",
      " [ 0.00000000e+00 -6.90255715e-01 -2.26093368e-01]\n",
      " [ 0.00000000e+00  6.68172729e-01 -2.26093368e-01]\n",
      " [ 0.00000000e+00  2.53521350e-01 -2.26093368e-01]\n",
      " [ 0.00000000e+00  8.09357707e-01 -2.26093368e-01]\n",
      " [ 0.00000000e+00 -2.05647815e-01 -1.55439190e+00]\n",
      " [ 0.00000000e+00 -1.27280274e+00 -2.88269044e+00]\n",
      " [ 0.00000000e+00  5.00114703e-02  1.10220517e+00]\n",
      " [ 0.00000000e+00  1.44532608e+00 -2.26093368e-01]\n",
      " [ 0.00000000e+00 -2.41262044e-01  1.10220517e+00]\n",
      " [ 0.00000000e+00 -7.16966387e-01 -2.26093368e-01]\n",
      " [ 0.00000000e+00 -9.68809863e-01 -2.26093368e-01]\n",
      " [ 0.00000000e+00  1.67029651e-01  1.10220517e+00]\n",
      " [ 0.00000000e+00  2.81647389e+00  1.10220517e+00]\n",
      " [ 0.00000000e+00  2.05187753e-01  1.10220517e+00]\n",
      " [ 0.00000000e+00 -4.28236746e-01 -1.55439190e+00]\n",
      " [ 0.00000000e+00  3.01854946e-01 -2.26093368e-01]\n",
      " [ 0.00000000e+00  7.20322135e-01  1.10220517e+00]\n",
      " [ 0.00000000e+00 -1.01841540e+00 -2.26093368e-01]\n",
      " [ 0.00000000e+00 -1.46104938e+00 -1.55439190e+00]\n",
      " [ 0.00000000e+00 -1.89112638e-01  1.10220517e+00]\n",
      " [ 0.00000000e+00 -1.01459959e+00 -2.26093368e-01]] [   0.         2000.68085106    3.17021277] [1.00000000e+00 7.86202619e+02 7.52842809e-01]\n"
     ]
    }
   ],
   "source": [
    "print(X)\n",
    "def featureScaleNormalize(X):\n",
    "    mean = X.mean(0)\n",
    "    stdev = X.std(0)\n",
    "    stdev[0] = 1\n",
    "    m = len(X)\n",
    "    X = X.astype(float)\n",
    "    for x in range(m):\n",
    "        X[x] -= mean\n",
    "        X[x] /= stdev\n",
    "    return X, mean, stdev\n",
    "X, mean, stdev = featureScaleNormalize(X)\n",
    "print (X, mean, stdev)"
   ]
  },
  {
   "cell_type": "code",
   "execution_count": null,
   "metadata": {
    "colab": {},
    "colab_type": "code",
    "id": "ah4o2NM4-dSU"
   },
   "outputs": [],
   "source": []
  },
  {
   "cell_type": "markdown",
   "metadata": {
    "colab_type": "text",
    "id": "uFn9YUZt-dSd"
   },
   "source": [
    "### Maintenant nous allons devoir adapter nos fonctions _predict_, _fit_, et _cost_ à une situation à plusieurs variables"
   ]
  },
  {
   "cell_type": "code",
   "execution_count": 9,
   "metadata": {
    "colab": {},
    "colab_type": "code",
    "id": "0ThlVQEI-dSg"
   },
   "outputs": [
    {
     "ename": "SyntaxError",
     "evalue": "unexpected EOF while parsing (<ipython-input-9-f6161b21dc24>, line 2)",
     "output_type": "error",
     "traceback": [
      "\u001b[0;36m  File \u001b[0;32m\"<ipython-input-9-f6161b21dc24>\"\u001b[0;36m, line \u001b[0;32m2\u001b[0m\n\u001b[0;31m    \u001b[0m\n\u001b[0m    ^\u001b[0m\n\u001b[0;31mSyntaxError\u001b[0m\u001b[0;31m:\u001b[0m unexpected EOF while parsing\n"
     ]
    }
   ],
   "source": [
    "def predict(X, theta):\n",
    "    \n",
    "    "
   ]
  },
  {
   "cell_type": "code",
   "execution_count": null,
   "metadata": {
    "colab": {},
    "colab_type": "code",
    "id": "ecrM6j9K-dSz"
   },
   "outputs": [],
   "source": [
    "def cost(X, y, theta):\n",
    "    "
   ]
  },
  {
   "cell_type": "code",
   "execution_count": null,
   "metadata": {
    "colab": {},
    "colab_type": "code",
    "id": "VCtM37Mk-dTA"
   },
   "outputs": [],
   "source": [
    "def fit_with_cost(X, y, theta, alpha, num_iters):\n",
    "    \n",
    "    \n",
    "    \n",
    "    \n",
    "    return theta, J_history"
   ]
  },
  {
   "cell_type": "markdown",
   "metadata": {
    "colab_type": "text",
    "id": "ivUR2nTo-dTM"
   },
   "source": [
    "## Lancez l'entrainement du modèle"
   ]
  },
  {
   "cell_type": "markdown",
   "metadata": {
    "colab_type": "text",
    "id": "iT1WXlWm-dTT"
   },
   "source": [
    "Vous êtes libres de choisir alpha et num_iters cette fois!"
   ]
  },
  {
   "cell_type": "code",
   "execution_count": null,
   "metadata": {
    "colab": {},
    "colab_type": "code",
    "id": "ABen8SGh-dTY"
   },
   "outputs": [],
   "source": []
  },
  {
   "cell_type": "markdown",
   "metadata": {
    "colab_type": "text",
    "id": "2cNcBTwN-dTm"
   },
   "source": [
    "## Visualisez l'évolution du coût (graphe de convergence)"
   ]
  },
  {
   "cell_type": "code",
   "execution_count": null,
   "metadata": {
    "colab": {},
    "colab_type": "code",
    "id": "G6CYvorH-dTt"
   },
   "outputs": [],
   "source": [
    "fit = plt.figure()\n",
    "ax = plt.axes()\n",
    "ax.plot(J_history)"
   ]
  },
  {
   "cell_type": "markdown",
   "metadata": {
    "colab_type": "text",
    "id": "CdxXu7Cj-dT1"
   },
   "source": [
    "## Testez votre modèle"
   ]
  },
  {
   "cell_type": "markdown",
   "metadata": {
    "colab_type": "text",
    "id": "hcJvXXJM-dT2"
   },
   "source": [
    "Que vaut une maison de 1650 pieds carrés et de 3 chambres à coucher? (Si la valeur est aberrante, vous avez peut-être oublié une étape...)"
   ]
  },
  {
   "cell_type": "code",
   "execution_count": null,
   "metadata": {
    "colab": {},
    "colab_type": "code",
    "id": "FEI0kuWI-dT_"
   },
   "outputs": [],
   "source": []
  },
  {
   "cell_type": "markdown",
   "metadata": {
    "colab": {},
    "colab_type": "code",
    "id": "d6L1TpxI-dUH"
   },
   "source": [
    "### Réécrivez votre fonction fit pour qu'elle prenne en compte un parametre de regularisation (L1, L2 pour Lasso ou Ridge) et adapte la mise  a jour de theta an fonction de la regularization précisée"
   ]
  },
  {
   "cell_type": "code",
   "execution_count": null,
   "metadata": {},
   "outputs": [],
   "source": [
    "def fit_with_regularization(X, y, theta, alpha, num_iters, regularization=\"\"):\n",
    "    \n",
    "    \n",
    "    \n",
    "    \n",
    "    return theta, J_history"
   ]
  },
  {
   "cell_type": "code",
   "execution_count": null,
   "metadata": {},
   "outputs": [],
   "source": []
  },
  {
   "cell_type": "markdown",
   "metadata": {},
   "source": [
    "### La fonction fit au complet. Ajoutez un dernier parametre qui précise le gradient employé (stochastic, mini_batch(avec le batch_size), batch). Pour la descente de gradient stochastic et minibatch on met a jour le learning rate avec la formule du learning rate decay"
   ]
  },
  {
   "cell_type": "code",
   "execution_count": null,
   "metadata": {},
   "outputs": [],
   "source": [
    "def complete_fit(X, y, theta, alpha, num_iters, regularization=\"\", gradient_descent=\"batch\", batch_size=4, decay_rate=1):\n",
    "    \n",
    "    \n",
    "    \n",
    "    \n",
    "    return theta, J_history"
   ]
  },
  {
   "cell_type": "code",
   "execution_count": null,
   "metadata": {},
   "outputs": [],
   "source": []
  }
 ],
 "metadata": {
  "colab": {
   "name": "Semaine3-exercices.ipynb",
   "provenance": [],
   "version": "0.3.2"
  },
  "kernelspec": {
   "display_name": "Python 3",
   "language": "python",
   "name": "python3"
  },
  "language_info": {
   "codemirror_mode": {
    "name": "ipython",
    "version": 3
   },
   "file_extension": ".py",
   "mimetype": "text/x-python",
   "name": "python",
   "nbconvert_exporter": "python",
   "pygments_lexer": "ipython3",
   "version": "3.7.1"
  }
 },
 "nbformat": 4,
 "nbformat_minor": 1
}
